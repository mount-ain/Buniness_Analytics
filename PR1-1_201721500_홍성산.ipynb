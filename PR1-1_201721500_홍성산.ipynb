{
 "cells": [
  {
   "cell_type": "markdown",
   "id": "579b3775",
   "metadata": {},
   "source": [
    "#### 1. Css Selector 수정"
   ]
  },
  {
   "cell_type": "code",
   "execution_count": 12,
   "id": "eb2df3a9",
   "metadata": {
    "scrolled": true
   },
   "outputs": [
    {
     "data": {
      "text/plain": [
       "'#today_main_news > div.hdline_news > ul > li'"
      ]
     },
     "execution_count": 12,
     "metadata": {},
     "output_type": "execute_result"
    }
   ],
   "source": [
    "selector = \"#today_main_news > div.hdline_news > ul > li:nth-child(1)\" \n",
    "\n",
    "a = selector.split(\">\")   # 구분기호 \">\" 분리 및 마지막 원소값 구분기호 \":\" 분리\n",
    "a[-1] = a[-1].split(\":\")[0]\n",
    "\n",
    "result = \">\".join(a)   # 처리된 문자열 결합 \n",
    "result"
   ]
  },
  {
   "cell_type": "markdown",
   "id": "ee5a21a5",
   "metadata": {},
   "source": [
    "#### 2. List comprehension으로 만드는 구구단"
   ]
  },
  {
   "cell_type": "code",
   "execution_count": 29,
   "id": "1aaa369a",
   "metadata": {},
   "outputs": [
    {
     "name": "stdout",
     "output_type": "stream",
     "text": [
      "7 x 1 = 7\n",
      "7 x 2 = 14\n",
      "7 x 3 = 21\n",
      "7 x 4 = 28\n",
      "7 x 5 = 35\n",
      "7 x 6 = 42\n",
      "7 x 7 = 49\n",
      "7 x 8 = 56\n",
      "7 x 9 = 63\n"
     ]
    }
   ],
   "source": [
    "def gugu_com(x=2):\n",
    "    [print(f\"{x} x {i} = {x*i}\") for i in range(1, 10)]\n",
    "\n",
    "gugu_com(7)"
   ]
  },
  {
   "cell_type": "code",
   "execution_count": 1,
   "id": "f4cf86ef",
   "metadata": {},
   "outputs": [
    {
     "name": "stdout",
     "output_type": "stream",
     "text": [
      "7 x 1 = 7\n",
      "7 x 2 = 14\n",
      "7 x 3 = 21\n",
      "7 x 4 = 28\n",
      "7 x 5 = 35\n",
      "7 x 6 = 42\n",
      "7 x 7 = 49\n",
      "7 x 8 = 56\n",
      "7 x 9 = 63\n"
     ]
    }
   ],
   "source": [
    "def gugu_com(x):\n",
    "    [print(\"%d x %d = %d\" %(x, i, x*i)) for i in range(1,10)] # 구구단 함수 생성(print(f\"~\")형식을 이해하지 못해 별도로 만들어봤습니다.)\n",
    "    \n",
    "gugu_com(7)"
   ]
  },
  {
   "cell_type": "markdown",
   "id": "8e29bfdb",
   "metadata": {},
   "source": [
    "#### 3. 두 주사위의 곱"
   ]
  },
  {
   "cell_type": "code",
   "execution_count": 4,
   "id": "2053fd5e",
   "metadata": {},
   "outputs": [
    {
     "data": {
      "text/plain": [
       "[[1, 2, 3, 4, 5, 6],\n",
       " [2, 4, 6, 8, 10, 12],\n",
       " [3, 6, 9, 12, 15, 18],\n",
       " [4, 8, 12, 16, 20, 24],\n",
       " [5, 10, 15, 20, 25, 30],\n",
       " [6, 12, 18, 24, 30, 36]]"
      ]
     },
     "execution_count": 4,
     "metadata": {},
     "output_type": "execute_result"
    }
   ],
   "source": [
    "die = [[i * j for i in range(1,7)] for j in range(1,7)]  # 두 주사위의 곱으로 이루어진 이차원 리스트 생성\n",
    "die"
   ]
  },
  {
   "cell_type": "markdown",
   "id": "e06a1f56",
   "metadata": {},
   "source": [
    "#### 4. 두 주사위의 합"
   ]
  },
  {
   "cell_type": "code",
   "execution_count": 9,
   "id": "693d17d1",
   "metadata": {},
   "outputs": [
    {
     "name": "stdout",
     "output_type": "stream",
     "text": [
      "8\n",
      "8\n"
     ]
    }
   ],
   "source": [
    "die = [[i + j for i in range(1,7)] for j in range(1,7)] # 두 주사위의 합으로 이루어진 이차원 리스트 생성\n",
    "\n",
    "print(die[1][5]) # 각각 2 + 6, 6 + 2 의 결과값을 출력\n",
    "print(die[5][1])"
   ]
  },
  {
   "cell_type": "markdown",
   "id": "d9d7efcf",
   "metadata": {},
   "source": [
    "#### 5. 도전문제-1"
   ]
  },
  {
   "cell_type": "code",
   "execution_count": 20,
   "id": "43c8c8b5",
   "metadata": {},
   "outputs": [
    {
     "data": {
      "text/plain": [
       "defaultdict(<function __main__.word_counter.<locals>.<lambda>()>,\n",
       "            {'python': 2,\n",
       "             'is': 1,\n",
       "             'a': 1,\n",
       "             'very': 1,\n",
       "             'simple': 1,\n",
       "             'programming': 1,\n",
       "             'language': 1,\n",
       "             'so': 1,\n",
       "             'even': 1,\n",
       "             'if': 1,\n",
       "             'you': 2,\n",
       "             'are': 1,\n",
       "             'new': 1,\n",
       "             'to': 1,\n",
       "             'programming,': 1,\n",
       "             'can': 1,\n",
       "             'learn': 1,\n",
       "             'without': 1,\n",
       "             'facing': 1,\n",
       "             'any': 1,\n",
       "             'issues.': 1})"
      ]
     },
     "execution_count": 20,
     "metadata": {},
     "output_type": "execute_result"
    }
   ],
   "source": [
    "from collections import defaultdict, Counter   # 내장함수 호출\n",
    "\n",
    "text = \"\"\"Python is a very simple programming language so even if you are new to programming, you can learn python without facing any issues.\"\"\"\n",
    "\n",
    "text2 = \"\"\"C is a very difficult programming language so even if you are good at programming, you can learn c with facing any issues.\"\"\"\n",
    "\n",
    "text3 = \"\"\"R Programming is good at statistical analysis. you can learn easily\"\"\"\n",
    "\n",
    "def word_counter(text):   # 문자열 카운트 함수 생성\n",
    "    word_count = defaultdict(lambda: 0)\n",
    "    for word in text.lower().split():\n",
    "        word_count[word] += 1\n",
    "        \n",
    "    return word_count\n",
    "\n",
    "word_counter(text)   # 결과 출력"
   ]
  },
  {
   "cell_type": "markdown",
   "id": "ce13af85",
   "metadata": {},
   "source": [
    "#### 5. 도전문제-2"
   ]
  },
  {
   "cell_type": "code",
   "execution_count": 25,
   "id": "04e7f936",
   "metadata": {},
   "outputs": [
    {
     "name": "stdout",
     "output_type": "stream",
     "text": [
      "73.91304347826086\n",
      "21.739130434782606\n"
     ]
    }
   ],
   "source": [
    "def text_similarity(text_count_1, text_count_2):   # 유사도 측정 함수 생성\n",
    "    text1_count = Counter(text_count_1) # 사칙연산을 위한 counter화\n",
    "    text2_count = Counter(text_count_2)\n",
    "    \n",
    "    word_total = sum(text1_count.values()) # Counter(A),(B) 대입을 위한 value값 변수 생성\n",
    "    word_diff = sum((text1_count - text2_count).values())\n",
    "    \n",
    "    return (1 - word_diff / word_total) * 100 # 식 대입 반환 \n",
    "\n",
    "print(text_similarity(word_counter(text), word_counter(text2)))   # text와 text2의 유사도 출력\n",
    "print(text_similarity(word_counter(text), word_counter(text3)))   # text와 text3의 유사도 출력"
   ]
  }
 ],
 "metadata": {
  "kernelspec": {
   "display_name": "Python 3",
   "language": "python",
   "name": "python3"
  },
  "language_info": {
   "codemirror_mode": {
    "name": "ipython",
    "version": 3
   },
   "file_extension": ".py",
   "mimetype": "text/x-python",
   "name": "python",
   "nbconvert_exporter": "python",
   "pygments_lexer": "ipython3",
   "version": "3.8.8"
  }
 },
 "nbformat": 4,
 "nbformat_minor": 5
}
