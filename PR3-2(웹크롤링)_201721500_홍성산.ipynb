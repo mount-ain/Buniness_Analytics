{
 "cells": [
  {
   "cell_type": "markdown",
   "id": "03d3bd92",
   "metadata": {},
   "source": [
    "# 크롤링-1"
   ]
  },
  {
   "cell_type": "markdown",
   "id": "4cef84a8",
   "metadata": {},
   "source": [
    "### 1. urllib"
   ]
  },
  {
   "cell_type": "code",
   "execution_count": 3,
   "id": "cd375eb5",
   "metadata": {},
   "outputs": [],
   "source": [
    "from urllib import request"
   ]
  },
  {
   "cell_type": "markdown",
   "id": "97aaf319",
   "metadata": {},
   "source": [
    "#### 1.1. urllib.request를 이용한 다운로드"
   ]
  },
  {
   "cell_type": "code",
   "execution_count": 5,
   "id": "8b77b501",
   "metadata": {},
   "outputs": [
    {
     "name": "stdout",
     "output_type": "stream",
     "text": [
      "저장되었습니다\n"
     ]
    }
   ],
   "source": [
    "# 라이브러리 읽어들이기 \n",
    "from urllib import request\n",
    "\n",
    "url=\"http://uta.pw/shodou/img/28/214.png\"\n",
    "savename=\"test.png\"\n",
    "\n",
    "request.urlretrieve(url, savename)\n",
    "print(\"저장되었습니다\")"
   ]
  },
  {
   "cell_type": "markdown",
   "id": "ae187d1c",
   "metadata": {},
   "source": [
    "#### 1.2. urlopen으로 파일에 저장하는 방법"
   ]
  },
  {
   "cell_type": "code",
   "execution_count": 6,
   "id": "040b1459",
   "metadata": {},
   "outputs": [
    {
     "name": "stdout",
     "output_type": "stream",
     "text": [
      "저장되었습니다..\n"
     ]
    }
   ],
   "source": [
    "# URL과 저장경로 지정하기\n",
    "url = \"http://uta.pw/shodou/img/28/214.png\"\n",
    "savename = \"test1.png\"\n",
    "#다운로드\n",
    "mem = request.urlopen(url).read()\n",
    "#파일로 저장하기, wb는 쓰기와 바이너리모드\n",
    "with open(savename, mode=\"wb\") as f:\n",
    "    f.write(mem)\n",
    "    print(\"저장되었습니다..\")"
   ]
  },
  {
   "cell_type": "markdown",
   "id": "a408ddd8",
   "metadata": {},
   "source": [
    "#### 1.3. API 사용하기"
   ]
  },
  {
   "cell_type": "code",
   "execution_count": 7,
   "id": "2de6dd5c",
   "metadata": {},
   "outputs": [
    {
     "name": "stdout",
     "output_type": "stream",
     "text": [
      "[ip]\n",
      "API_URI=http://api.aoikujira.com/ip/get.php\n",
      "REMOTE_ADDR=220.127.17.109\n",
      "REMOTE_HOST=220.127.17.109\n",
      "REMOTE_PORT=34830\n",
      "HTTP_HOST=api.aoikujira.com\n",
      "HTTP_USER_AGENT=Python-urllib/3.8\n",
      "HTTP_ACCEPT_LANGUAGE=\n",
      "HTTP_ACCEPT_CHARSET=\n",
      "SERVER_PORT=80\n",
      "FORMAT=ini\n",
      "\n",
      "\n"
     ]
    }
   ],
   "source": [
    "#데이터 읽어들이기\n",
    "url=\"http://api.aoikujira.com/ip/ini\"\n",
    "res=request.urlopen(url)\n",
    "data=res.read()\n",
    "\n",
    "#바이너리를 문자열로 변환하기\n",
    "text=data.decode(\"utf-8\")\n",
    "print(text)"
   ]
  },
  {
   "cell_type": "markdown",
   "id": "a2b85ae7",
   "metadata": {},
   "source": [
    "### 2. BeautifulSoup\n",
    "#### 패키지 import 및 기본 예제 HTML"
   ]
  },
  {
   "cell_type": "code",
   "execution_count": 8,
   "id": "2a40fe74",
   "metadata": {},
   "outputs": [],
   "source": [
    "from bs4 import BeautifulSoup"
   ]
  },
  {
   "cell_type": "code",
   "execution_count": 9,
   "id": "f2659b59",
   "metadata": {},
   "outputs": [],
   "source": [
    "html = \"\"\"\n",
    "<html><body>\n",
    "  <h1>스크레이핑이란?</h1>\n",
    "  <p>웹 페이지를 분석하는 것</p>\n",
    "  <p>원하는 부분을 추출하는 것</p>\n",
    "</body></html>\n",
    "\"\"\""
   ]
  },
  {
   "cell_type": "markdown",
   "id": "5da94d5b",
   "metadata": {},
   "source": [
    "#### 2.1. 기본사용"
   ]
  },
  {
   "cell_type": "code",
   "execution_count": 10,
   "id": "7954bff0",
   "metadata": {},
   "outputs": [],
   "source": [
    "soup = BeautifulSoup(html, 'html.parser')   # HTML 분석"
   ]
  },
  {
   "cell_type": "code",
   "execution_count": 11,
   "id": "1d3b8047",
   "metadata": {},
   "outputs": [],
   "source": [
    "h1 = soup.html.body.h1   # 원하는 부분 추출\n",
    "p1 = soup.html.body.p\n",
    "p2 = p1.next_sibling.next_sibling"
   ]
  },
  {
   "cell_type": "code",
   "execution_count": 12,
   "id": "dd859c90",
   "metadata": {},
   "outputs": [
    {
     "name": "stdout",
     "output_type": "stream",
     "text": [
      "h1 = 스크레이핑이란?\n",
      "p  = 웹 페이지를 분석하는 것\n",
      "p  = 원하는 부분을 추출하는 것\n"
     ]
    }
   ],
   "source": [
    "print(f\"h1 = {h1.string}\")   # 요소 글자 출력\n",
    "print(f\"p  = {p1.string}\")\n",
    "print(f\"p  = {p2.string}\")"
   ]
  },
  {
   "cell_type": "markdown",
   "id": "55f0c7c8",
   "metadata": {},
   "source": [
    "#### 2.2. 요소를 찾는 method"
   ]
  },
  {
   "cell_type": "code",
   "execution_count": 19,
   "id": "bde5d344",
   "metadata": {},
   "outputs": [
    {
     "name": "stdout",
     "output_type": "stream",
     "text": [
      "<h1>스크레이핑이란?</h1>\n",
      "#title = 스크레이핑이란?\n",
      "#body = 웹 페이지를 분석하는 것\n"
     ]
    }
   ],
   "source": [
    "soup = BeautifulSoup(html, 'html.parser')   # 단일 element 추출\n",
    "\n",
    "title = soup.find(\"h1\")\n",
    "body  = soup.find(\"p\")\n",
    "print(title)\n",
    "\n",
    "print(f\"#title = {title.string}\" )\n",
    "print(f\"#body = {body.string}\")"
   ]
  },
  {
   "cell_type": "code",
   "execution_count": 21,
   "id": "cccf56f6",
   "metadata": {},
   "outputs": [
    {
     "name": "stdout",
     "output_type": "stream",
     "text": [
      "[<a href=\"http://www.naver.com\">naver</a>, <a href=\"http://www.daum.net\">daum</a>] 2\n",
      "naver > http://www.naver.com\n",
      "daum > http://www.daum.net\n"
     ]
    }
   ],
   "source": [
    "# 복수 element 추출\n",
    "html = \"\"\"   \n",
    "<html><body>\n",
    "  <ul>\n",
    "    <li><a href=\"http://www.naver.com\">naver</a></li>\n",
    "    <li><a href=\"http://www.daum.net\">daum</a></li>\n",
    "  </ul>\n",
    "</body></html>\n",
    "\"\"\"\n",
    "   \n",
    "soup = BeautifulSoup(html, 'html.parser')\n",
    "\n",
    "links = soup.find_all(\"a\")\n",
    "print(links, len(links))\n",
    "\n",
    "for a in links:\n",
    "    href = a.attrs['href'] # href의 속성에 있는 속성값을 추출\n",
    "    text = a.string \n",
    "    print(text, \">\", href)"
   ]
  },
  {
   "cell_type": "markdown",
   "id": "820d478c",
   "metadata": {},
   "source": [
    "### 3. Css selector"
   ]
  },
  {
   "cell_type": "code",
   "execution_count": 23,
   "id": "c960babc",
   "metadata": {},
   "outputs": [],
   "source": [
    "html = \"\"\"\n",
    "<html><body>\n",
    "<div id=\"meigen\">\n",
    "  <h1>위키북스 도서</h1>\n",
    "  <ul class=\"items\">\n",
    "    <li>유니티 게임 이펙트 입문</li>\n",
    "    <li>스위프트로 시작하는 아이폰 앱 개발 교과서</li>\n",
    "    <li>모던 웹사이트 디자인의 정석</li>\n",
    "  </ul>\n",
    "</div>\n",
    "</body></html>\n",
    "\"\"\"\n",
    "\n",
    "# HTML 분석하기 \n",
    "soup = BeautifulSoup(html, 'html.parser')"
   ]
  },
  {
   "cell_type": "code",
   "execution_count": 25,
   "id": "6a07ad45",
   "metadata": {},
   "outputs": [
    {
     "name": "stdout",
     "output_type": "stream",
     "text": [
      "h1 = 위키북스 도서\n",
      "li = 유니티 게임 이펙트 입문\n",
      "li = 스위프트로 시작하는 아이폰 앱 개발 교과서\n",
      "li = 모던 웹사이트 디자인의 정석\n"
     ]
    }
   ],
   "source": [
    "# 타이틀 부분 추출하기 --- (※3)\n",
    "h1 = soup.select_one(\"div#meigen > h1\").string\n",
    "print(f\"h1 = {h1}\")\n",
    "\n",
    "# 목록 부분 추출하기 --- (※4)\n",
    "li_list = soup.select(\"div#meigen > ul.items > li\")\n",
    "for li in li_list:\n",
    "  print(f\"li = {li.string}\")"
   ]
  },
  {
   "cell_type": "markdown",
   "id": "8da0c644",
   "metadata": {},
   "source": [
    "### 4. 활용 예제"
   ]
  },
  {
   "cell_type": "code",
   "execution_count": 27,
   "id": "5f020349",
   "metadata": {},
   "outputs": [],
   "source": [
    "from bs4 import BeautifulSoup\n",
    "from urllib import request, parse"
   ]
  },
  {
   "cell_type": "markdown",
   "id": "63a9a03e",
   "metadata": {},
   "source": [
    "#### 4.1. 네이버 금융 - 환율정보"
   ]
  },
  {
   "cell_type": "code",
   "execution_count": 28,
   "id": "d9c4e75b",
   "metadata": {},
   "outputs": [],
   "source": [
    "url = \"https://finance.naver.com/marketindex/\"   # HTML 가져오기\n",
    "res = request.urlopen(url)"
   ]
  },
  {
   "cell_type": "code",
   "execution_count": 29,
   "id": "0df88efe",
   "metadata": {},
   "outputs": [],
   "source": [
    "soup = BeautifulSoup(res, \"html.parser\")   # HTML 분석하기"
   ]
  },
  {
   "cell_type": "code",
   "execution_count": 30,
   "id": "878c3dd1",
   "metadata": {},
   "outputs": [
    {
     "name": "stdout",
     "output_type": "stream",
     "text": [
      "usd/krw = 1,178.00\n"
     ]
    }
   ],
   "source": [
    "price = soup.select_one(\"div.head_info > span.value\").string   # 원하는 데이터 추출하기\n",
    "print(\"usd/krw =\", price) "
   ]
  },
  {
   "cell_type": "markdown",
   "id": "9f02ad3d",
   "metadata": {},
   "source": [
    "#### 4.2. 기상청 RSS"
   ]
  },
  {
   "cell_type": "code",
   "execution_count": 31,
   "id": "2051be44",
   "metadata": {},
   "outputs": [
    {
     "name": "stdout",
     "output_type": "stream",
     "text": [
      "url= http://www.kma.go.kr/weather/forecast/mid-term-rss3.jsp?stnId=109\n"
     ]
    }
   ],
   "source": [
    "url = \"http://www.kma.go.kr/weather/forecast/mid-term-rss3.jsp\"   # HTML 가져오기\n",
    "\n",
    "#매개변수를 URL로 인코딩한다.\n",
    "values = {\n",
    "    'stnId':'109'\n",
    "}\n",
    "\n",
    "params=parse.urlencode(values)\n",
    "url += \"?\"+params # URL에 매개변수 추가\n",
    "print(\"url=\", url)\n",
    "\n",
    "res = request.urlopen(url)"
   ]
  },
  {
   "cell_type": "code",
   "execution_count": 32,
   "id": "5b005136",
   "metadata": {},
   "outputs": [],
   "source": [
    "soup = BeautifulSoup(res, \"html.parser\")   # HTML 분석하기"
   ]
  },
  {
   "cell_type": "code",
   "execution_count": 37,
   "id": "f979c81b",
   "metadata": {},
   "outputs": [
    {
     "name": "stdout",
     "output_type": "stream",
     "text": [
      "서울,경기도 육상중기예보\n",
      "○ (강수) 29일(수)과 10월 6일(수)은 비가 내리겠습니다.<br />○ (기온) 이번 예보기간 아침최저기온은 12~19도로 어제(25일, 아침최저기온 15~20도)와 비슷하거나 조금 낮겠고, <br />          낮최고기온은 23~28도로 어제(25일, 낮최고기온 23~24도)보다 높겠습니다.<br />○ (해상) 서해중부해상의 물결은 1.0~2.0m로 일겠습니다.\n"
     ]
    }
   ],
   "source": [
    "header = soup.find(\"header\")   # 원하는 데이터 추출하기\n",
    "\n",
    "title = header.find(\"title\").text\n",
    "wf = header.find(\"wf\").text\n",
    "\n",
    "print(title)\n",
    "print(wf)"
   ]
  },
  {
   "cell_type": "markdown",
   "id": "9a9c7a9b",
   "metadata": {},
   "source": [
    "#### 4.3. 윤동주 작가의 작품 목록"
   ]
  },
  {
   "cell_type": "code",
   "execution_count": 38,
   "id": "4c548305",
   "metadata": {},
   "outputs": [
    {
     "name": "stdout",
     "output_type": "stream",
     "text": [
      "- 하늘과 바람과 별과 시\n",
      "- 증보판\n",
      "- 서시\n",
      "- 자화상\n",
      "- 소년\n",
      "- 눈 오는 지도\n",
      "- 돌아와 보는 밤\n",
      "- 병원\n",
      "- 새로운 길\n",
      "- 간판 없는 거리\n",
      "- 태초의 아침\n",
      "- 또 태초의 아침\n",
      "- 새벽이 올 때까지\n",
      "- 무서운 시간\n",
      "- 십자가\n",
      "- 바람이 불어\n",
      "- 슬픈 족속\n",
      "- 눈감고 간다\n",
      "- 또 다른 고향\n",
      "- 길\n",
      "- 별 헤는 밤\n",
      "- 흰 그림자\n",
      "- 사랑스런 추억\n",
      "- 흐르는 거리\n",
      "- 쉽게 씌어진 시\n",
      "- 봄\n",
      "- 참회록\n",
      "- 간(肝)\n",
      "- 위로\n",
      "- 팔복\n",
      "- 못자는밤\n",
      "- 달같이\n",
      "- 고추밭\n",
      "- 아우의 인상화\n",
      "- 사랑의 전당\n",
      "- 이적\n",
      "- 비오는 밤\n",
      "- 산골물\n",
      "- 유언\n",
      "- 창\n",
      "- 바다\n",
      "- 비로봉\n",
      "- 산협의 오후\n",
      "- 명상\n",
      "- 소낙비\n",
      "- 한난계\n",
      "- 풍경\n",
      "- 달밤\n",
      "- 장\n",
      "- 밤\n",
      "- 황혼이 바다가 되어\n",
      "- 아침\n",
      "- 빨래\n",
      "- 꿈은 깨어지고\n",
      "- 산림\n",
      "- 이런날\n",
      "- 산상\n",
      "- 양지쪽\n",
      "- 닭\n",
      "- 가슴 1\n",
      "- 가슴 2\n",
      "- 비둘기\n",
      "- 황혼\n",
      "- 남쪽 하늘\n",
      "- 창공\n",
      "- 거리에서\n",
      "- 삶과 죽음\n",
      "- 초한대\n",
      "- 산울림\n",
      "- 해바라기 얼굴\n",
      "- 귀뚜라미와 나와\n",
      "- 애기의 새벽\n",
      "- 햇빛·바람\n",
      "- 반디불\n",
      "- 둘 다\n",
      "- 거짓부리\n",
      "- 눈\n",
      "- 참새\n",
      "- 버선본\n",
      "- 편지\n",
      "- 봄\n",
      "- 무얼 먹구 사나\n",
      "- 굴뚝\n",
      "- 햇비\n",
      "- 빗자루\n",
      "- 기왓장 내외\n",
      "- 오줌싸개 지도\n",
      "- 병아리\n",
      "- 조개껍질\n",
      "- 겨울\n",
      "- 트루게네프의 언덕\n",
      "- 달을 쏘다\n",
      "- 별똥 떨어진 데\n",
      "- 화원에 꽃이 핀다\n",
      "- 종시\n"
     ]
    }
   ],
   "source": [
    "url = \"https://ko.wikisource.org/wiki/%EC%A0%80%EC%9E%90:%EC%9C%A4%EB%8F%99%EC%A3%BC\"\n",
    "res = request.urlopen(url)\n",
    "soup = BeautifulSoup(res, \"html.parser\")\n",
    "\n",
    "# #mw-content-text 바로 아래에 있는 \n",
    "# ul 태그 바로 아래에 있는\n",
    "# li 태그 아래에 있는\n",
    "# a 태그를 모두 선택합니다.\n",
    "a_list = soup.select(\"#mw-content-text   ul > li  a\")\n",
    "for a in a_list:\n",
    "    name = a.string\n",
    "    print(f\"- {name}\", )"
   ]
  },
  {
   "cell_type": "markdown",
   "id": "babab4e1",
   "metadata": {},
   "source": [
    "## 일반문제\n",
    "### 1. 네이버 뉴스 헤드라인"
   ]
  },
  {
   "cell_type": "code",
   "execution_count": 40,
   "id": "a1f77cc3",
   "metadata": {},
   "outputs": [
    {
     "name": "stdout",
     "output_type": "stream",
     "text": [
      "\n",
      "                                        암호화폐 거래소 제도권 편입됐지만…트레블룰·업권법등 변수 '수두룩'\n",
      "                                    \n",
      "\n",
      "                                        [속보] \"60세이상·의료진에 '부스터샷' 곧 시작...접종간격도 단축\"\n",
      "                                    \n",
      "\n",
      "                                        바이든-시진핑 통화 2주 후 풀려난 화웨이 멍완저우\n",
      "                                    \n",
      "\n",
      "                                        \"빠른 시일 내 남북정상회담\" 김여정 돌변…담화에 깔린 '밑밥'\n",
      "                                    \n",
      "\n",
      "                                        후발 인뱅 케뱅·토스, 대출 고객 잡고 보자··· ‘한도 축소’ 카뱅과 대비\n",
      "                                    \n"
     ]
    }
   ],
   "source": [
    "url = \"https://news.naver.com/\"   # url 지정\n",
    "\n",
    "res = request.urlopen(url)\n",
    "soup = BeautifulSoup(res, \"html.parser\")\n",
    "\n",
    "selector = \"#today_main_news > div.hdline_news > ul > li > div.hdline_article_tit > a\"   # 원하는 데이터 selector 지정\n",
    "\n",
    "for a in soup.select(selector):   # 데이터 추출\n",
    "    title = a.text\n",
    "    print(title)"
   ]
  },
  {
   "cell_type": "markdown",
   "id": "51c528af",
   "metadata": {},
   "source": [
    "### 2. 시민의 소리 게시판"
   ]
  },
  {
   "cell_type": "code",
   "execution_count": 43,
   "id": "5c64ed8f",
   "metadata": {},
   "outputs": [
    {
     "name": "stdout",
     "output_type": "stream",
     "text": [
      "['그늘막 텐트 문의', '감사 인사 드립니다.', '어린이대공원 매점 냉장고 점검 부탁드립니다.', '어린이를 위한 공원내 식당에 아기를 위한 시설 부족(아기의자가 왜 없죠?)', '강창수 해설사님 ', '동물해설사님 칭찬', '강창수 동물 해설사님', '놀이동산 푸드코트 김치가 중국산인 이유는?', '주슨트 설명 최고예요!!', '강창수 주슨트님 최고 !!'] ['https://www.sisul.or.kr/open_content/childrenpark/qna/qnaMsgDetail.do;jsessionid=IVqdRMtJvbX6aTLbQTPK3pbinaVZxV5JsNffEXV1daf3CFLKp26m6ktMw4Udzr9h.etisw2_servlet_user?qnaid=QNAS20210926000002&pgno=1', 'https://www.sisul.or.kr/open_content/childrenpark/qna/qnaMsgDetail.do;jsessionid=IVqdRMtJvbX6aTLbQTPK3pbinaVZxV5JsNffEXV1daf3CFLKp26m6ktMw4Udzr9h.etisw2_servlet_user?qnaid=QNAS20210926000001&pgno=1', 'https://www.sisul.or.kr/open_content/childrenpark/qna/qnaMsgDetail.do;jsessionid=IVqdRMtJvbX6aTLbQTPK3pbinaVZxV5JsNffEXV1daf3CFLKp26m6ktMw4Udzr9h.etisw2_servlet_user?qnaid=QNAS20210925000002&pgno=1', 'https://www.sisul.or.kr/open_content/childrenpark/qna/qnaMsgDetail.do;jsessionid=IVqdRMtJvbX6aTLbQTPK3pbinaVZxV5JsNffEXV1daf3CFLKp26m6ktMw4Udzr9h.etisw2_servlet_user?qnaid=QNAS20210923000005&pgno=1', 'https://www.sisul.or.kr/open_content/childrenpark/qna/qnaMsgDetail.do;jsessionid=IVqdRMtJvbX6aTLbQTPK3pbinaVZxV5JsNffEXV1daf3CFLKp26m6ktMw4Udzr9h.etisw2_servlet_user?qnaid=QNAS20210920000001&pgno=1', 'https://www.sisul.or.kr/open_content/childrenpark/qna/qnaMsgDetail.do;jsessionid=IVqdRMtJvbX6aTLbQTPK3pbinaVZxV5JsNffEXV1daf3CFLKp26m6ktMw4Udzr9h.etisw2_servlet_user?qnaid=QNAS20210919000004&pgno=1', 'https://www.sisul.or.kr/open_content/childrenpark/qna/qnaMsgDetail.do;jsessionid=IVqdRMtJvbX6aTLbQTPK3pbinaVZxV5JsNffEXV1daf3CFLKp26m6ktMw4Udzr9h.etisw2_servlet_user?qnaid=QNAS20210919000003&pgno=1', 'https://www.sisul.or.kr/open_content/childrenpark/qna/qnaMsgDetail.do;jsessionid=IVqdRMtJvbX6aTLbQTPK3pbinaVZxV5JsNffEXV1daf3CFLKp26m6ktMw4Udzr9h.etisw2_servlet_user?qnaid=QNAS20210918000002&pgno=1', 'https://www.sisul.or.kr/open_content/childrenpark/qna/qnaMsgDetail.do;jsessionid=IVqdRMtJvbX6aTLbQTPK3pbinaVZxV5JsNffEXV1daf3CFLKp26m6ktMw4Udzr9h.etisw2_servlet_user?qnaid=QNAS20210909000001&pgno=1', 'https://www.sisul.or.kr/open_content/childrenpark/qna/qnaMsgDetail.do;jsessionid=IVqdRMtJvbX6aTLbQTPK3pbinaVZxV5JsNffEXV1daf3CFLKp26m6ktMw4Udzr9h.etisw2_servlet_user?qnaid=QNAS20210908000004&pgno=1']\n"
     ]
    }
   ],
   "source": [
    "url_head = \"https://www.sisul.or.kr\"   # url 지정\n",
    "\n",
    "url_board = url_head + \"/open_content/childrenpark/qna/qnaMsgList.do?pgno=1\"\n",
    "\n",
    "\n",
    "\n",
    "res = request.urlopen(url_board)\n",
    "soup = BeautifulSoup(res, \"html.parser\")\n",
    "\n",
    "# selector = \"#detail_con > div.generalboard > table > tbody > tr > td.left.title > a\"   # 원하는 데이터 selector 지정\n",
    "selector = \"#detail_con > div.generalboard > table > tbody > tr > td.left.title > a\"\n",
    "\n",
    "titles = []   # 데이터 추출\n",
    "links = []\n",
    "for a in soup.select(selector):   \n",
    "    titles.append(a.text)\n",
    "    links.append(url_head + a.attrs[\"href\"])\n",
    "    \n",
    "print(titles, links)"
   ]
  },
  {
   "cell_type": "markdown",
   "id": "195a0040",
   "metadata": {},
   "source": [
    "### csv 저장"
   ]
  },
  {
   "cell_type": "code",
   "execution_count": 46,
   "id": "d3b85df0",
   "metadata": {},
   "outputs": [
    {
     "data": {
      "text/html": [
       "<div>\n",
       "<style scoped>\n",
       "    .dataframe tbody tr th:only-of-type {\n",
       "        vertical-align: middle;\n",
       "    }\n",
       "\n",
       "    .dataframe tbody tr th {\n",
       "        vertical-align: top;\n",
       "    }\n",
       "\n",
       "    .dataframe thead th {\n",
       "        text-align: right;\n",
       "    }\n",
       "</style>\n",
       "<table border=\"1\" class=\"dataframe\">\n",
       "  <thead>\n",
       "    <tr style=\"text-align: right;\">\n",
       "      <th></th>\n",
       "      <th>title</th>\n",
       "      <th>link</th>\n",
       "    </tr>\n",
       "  </thead>\n",
       "  <tbody>\n",
       "    <tr>\n",
       "      <th>0</th>\n",
       "      <td>그늘막 텐트 문의</td>\n",
       "      <td>https://www.sisul.or.kr/open_content/childrenp...</td>\n",
       "    </tr>\n",
       "    <tr>\n",
       "      <th>1</th>\n",
       "      <td>감사 인사 드립니다.</td>\n",
       "      <td>https://www.sisul.or.kr/open_content/childrenp...</td>\n",
       "    </tr>\n",
       "    <tr>\n",
       "      <th>2</th>\n",
       "      <td>어린이대공원 매점 냉장고 점검 부탁드립니다.</td>\n",
       "      <td>https://www.sisul.or.kr/open_content/childrenp...</td>\n",
       "    </tr>\n",
       "    <tr>\n",
       "      <th>3</th>\n",
       "      <td>어린이를 위한 공원내 식당에 아기를 위한 시설 부족(아기의자가 왜 없죠?)</td>\n",
       "      <td>https://www.sisul.or.kr/open_content/childrenp...</td>\n",
       "    </tr>\n",
       "    <tr>\n",
       "      <th>4</th>\n",
       "      <td>강창수 해설사님</td>\n",
       "      <td>https://www.sisul.or.kr/open_content/childrenp...</td>\n",
       "    </tr>\n",
       "  </tbody>\n",
       "</table>\n",
       "</div>"
      ],
      "text/plain": [
       "                                       title  \\\n",
       "0                                  그늘막 텐트 문의   \n",
       "1                                감사 인사 드립니다.   \n",
       "2                   어린이대공원 매점 냉장고 점검 부탁드립니다.   \n",
       "3  어린이를 위한 공원내 식당에 아기를 위한 시설 부족(아기의자가 왜 없죠?)   \n",
       "4                                  강창수 해설사님    \n",
       "\n",
       "                                                link  \n",
       "0  https://www.sisul.or.kr/open_content/childrenp...  \n",
       "1  https://www.sisul.or.kr/open_content/childrenp...  \n",
       "2  https://www.sisul.or.kr/open_content/childrenp...  \n",
       "3  https://www.sisul.or.kr/open_content/childrenp...  \n",
       "4  https://www.sisul.or.kr/open_content/childrenp...  "
      ]
     },
     "execution_count": 46,
     "metadata": {},
     "output_type": "execute_result"
    }
   ],
   "source": [
    "import pandas as pd\n",
    "\n",
    "\n",
    "board_df = pd.DataFrame({\"title\": titles, \"link\": links})\n",
    "board_df.head()"
   ]
  },
  {
   "cell_type": "code",
   "execution_count": 48,
   "id": "b7d153ae",
   "metadata": {},
   "outputs": [],
   "source": [
    "board_df.to_csv(\"board.csv\", index=False)"
   ]
  },
  {
   "cell_type": "markdown",
   "id": "15b428e7",
   "metadata": {},
   "source": [
    "# 크롤링-2"
   ]
  },
  {
   "cell_type": "markdown",
   "id": "ab9693b2",
   "metadata": {},
   "source": [
    "### 라이브러리"
   ]
  },
  {
   "cell_type": "code",
   "execution_count": 52,
   "id": "b5b3c3e5",
   "metadata": {},
   "outputs": [],
   "source": [
    "from selenium import webdriver\n",
    "from selenium.webdriver.common.by import By\n",
    "from selenium.webdriver.support.ui import WebDriverWait\n",
    "from selenium.webdriver.support import expected_conditions as EC\n",
    "from bs4 import BeautifulSoup\n",
    "import pandas as pd\n",
    "from pandas import DataFrame\n",
    "import time"
   ]
  },
  {
   "cell_type": "markdown",
   "id": "a4355138",
   "metadata": {},
   "source": [
    "### 1. Text Crawling"
   ]
  },
  {
   "cell_type": "markdown",
   "id": "263ae8b1",
   "metadata": {},
   "source": [
    "#### 1.1. Simple Text Crawling"
   ]
  },
  {
   "cell_type": "markdown",
   "id": "a83a0b52",
   "metadata": {},
   "source": [
    "__* 사이트가 바뀐 것인지 모르겠지만, 기존 코드로 문의사항 제목 크롤링이 제한되는 것 같아, 클릭코드 추가 및 xpath로 대체해보았습니다.__"
   ]
  },
  {
   "cell_type": "code",
   "execution_count": 91,
   "id": "3e9b131e",
   "metadata": {},
   "outputs": [
    {
     "name": "stdout",
     "output_type": "stream",
     "text": [
      "Title: 따릉이를 이용하고 싶은데 어떻게 해야 하나요?(구매/대여/반납)\n"
     ]
    }
   ],
   "source": [
    " # chrome driver 설정\n",
    "driver = webdriver.Chrome('C:/Users/SeongSan/Documents/selenium/chromedriver.exe')\n",
    "driver.implicitly_wait(10)\n",
    "\n",
    "url = \"https://www.bikeseoul.com/customer/opinionBoard/opinionBoardList.do?currentPageNo=1\"\n",
    "\n",
    "driver.get(url)\n",
    "html = driver.page_source\n",
    "soup = BeautifulSoup(html, 'html.parser')\n",
    "\n",
    "# title crawling\n",
    "driver.find_element_by_xpath('/html/body/div[1]/div[2]/div/div/div[2]/ul/li[2]').click()\n",
    "title = WebDriverWait(driver, 20) \\\n",
    "    .until(EC.presence_of_element_located((By.XPATH, \"/html/body/div[1]/div[2]/div/div/div[3]/div[2]/ul/li[1]/dl/dt/a/span\")))\n",
    "\n",
    "print(\"Title: {}\".format(title.text))"
   ]
  },
  {
   "cell_type": "markdown",
   "id": "3249971d",
   "metadata": {},
   "source": [
    "#### 1.2. Text Crawling with for loop"
   ]
  },
  {
   "cell_type": "code",
   "execution_count": 93,
   "id": "4087a9c1",
   "metadata": {},
   "outputs": [
    {
     "name": "stdout",
     "output_type": "stream",
     "text": [
      "Title: 정기권 및 이용권 이용방법 (이용권은 한번만 이용 가능한가요?)\n",
      "Title: 카드 등록은 어떻게 하나요?(대여카드,환승카드)\n",
      "Title: 대여카드를 이용한 사용방법\n",
      "Title: 대여소 아닌곳에 자전거를 잠시 두려고 합니다.(자가잠금)\n",
      "Title: 티머니(교통카드,시티패스 등) 카드 등록을 통한 따릉이 이용방법\n"
     ]
    }
   ],
   "source": [
    " # chrome driver 설정\n",
    "driver = webdriver.Chrome('C:/Users/SeongSan/Documents/selenium/chromedriver.exe')\n",
    "driver.implicitly_wait(10)\n",
    "\n",
    "url = \"https://www.bikeseoul.com/customer/opinionBoard/opinionBoardList.do?currentPageNo=1\"\n",
    "\n",
    "driver.get(url)\n",
    "html = driver.page_source\n",
    "soup = BeautifulSoup(html, 'html.parser')\n",
    "\n",
    "# title crawling\n",
    "driver.find_element_by_xpath('/html/body/div[1]/div[2]/div/div/div[2]/ul/li[2]').click()\n",
    "for i in range(2, 7):\n",
    "    title = WebDriverWait(driver, 20) \\\n",
    "        .until(EC.presence_of_element_located((By.XPATH, \"/html/body/div[1]/div[2]/div/div/div[3]/div[2]/ul/li[\" + str(i) + \"]/dl/dt/a/span\")))\n",
    "    print(\"Title: {}\".format(title.text))"
   ]
  },
  {
   "cell_type": "code",
   "execution_count": 94,
   "id": "0fab2342",
   "metadata": {},
   "outputs": [
    {
     "name": "stdout",
     "output_type": "stream",
     "text": [
      "['정기권 및 이용권 이용방법 (이용권은 한번만 이용 가능한가요?)', '카드 등록은 어떻게 하나요?(대여카드,환승카드)', '대여카드를 이용한 사용방법', '대여소 아닌곳에 자전거를 잠시 두려고 합니다.(자가잠금)', '티머니(교통카드,시티패스 등) 카드 등록을 통한 따릉이 이용방법']\n"
     ]
    }
   ],
   "source": [
    " # chrome driver 설정\n",
    "driver = webdriver.Chrome('C:/Users/SeongSan/Documents/selenium/chromedriver.exe')\n",
    "driver.implicitly_wait(10)\n",
    "\n",
    "url = \"https://www.bikeseoul.com/customer/opinionBoard/opinionBoardList.do?currentPageNo=1\"\n",
    "\n",
    "driver.get(url)\n",
    "html = driver.page_source\n",
    "soup = BeautifulSoup(html, 'html.parser')\n",
    "\n",
    "# 빈 리스트 변수\n",
    "title_list = []\n",
    "\n",
    "# title crawling\n",
    "driver.find_element_by_xpath('/html/body/div[1]/div[2]/div/div/div[2]/ul/li[2]').click()\n",
    "for i in range(2, 7):\n",
    "    title = WebDriverWait(driver, 20) \\\n",
    "        .until(EC.presence_of_element_located((By.XPATH, \"/html/body/div[1]/div[2]/div/div/div[3]/div[2]/ul/li[\" + str(i) + \"]/dl/dt/a/span\")))\n",
    "    title_list.append(title.text)\n",
    "    \n",
    "print(title_list)"
   ]
  },
  {
   "cell_type": "markdown",
   "id": "c69b92ba",
   "metadata": {},
   "source": [
    "#### 1.3. Text Crawling(Click & Back)\n",
    "__클릭 코드도 기존 css코드를 다른 xpath로 대체했습니다.__"
   ]
  },
  {
   "cell_type": "code",
   "execution_count": 97,
   "id": "70d8cc41",
   "metadata": {},
   "outputs": [],
   "source": [
    " # chrome driver 설정\n",
    "driver = webdriver.Chrome('C:/Users/SeongSan/Documents/selenium/chromedriver.exe')\n",
    "driver.implicitly_wait(10)\n",
    "\n",
    "url = \"https://www.bikeseoul.com/customer/opinionBoard/opinionBoardList.do?currentPageNo=1\"\n",
    "\n",
    "driver.get(url)\n",
    "html = driver.page_source\n",
    "soup = BeautifulSoup(html, 'html.parser')\n",
    "\n",
    "# click\n",
    "click_element = WebDriverWait(driver, 20) \\\n",
    "    .until(EC.presence_of_element_located((By.XPATH, \"/html/body/div[1]/div[2]/div/div/div[4]/div/dl/dd[1]/a\")))\n",
    "click_element.click()    \n",
    "\n",
    "# back\n",
    "driver.back()"
   ]
  },
  {
   "cell_type": "markdown",
   "id": "e9a4d5e7",
   "metadata": {},
   "source": [
    "#### 1.4. Text Crawling including contents"
   ]
  },
  {
   "cell_type": "code",
   "execution_count": 113,
   "id": "a6a5a56f",
   "metadata": {},
   "outputs": [
    {
     "name": "stdout",
     "output_type": "stream",
     "text": [
      "['정기권 및 이용권 이용방법 (이용권은 한번만 이용 가능한가요?)']\n",
      "['▶ 정기권/일일권(1시간) 이용 방법\\n    ① 일일 한번에 한시간씩 사용하고 반납하는것이 원칙 !\\n    (예. 13시 대여, 14시 이내 반납 , 14시에 대여 15시 이내 반납, 반복 사용 가능)\\n    ② 한번 빌리면 대여시간 기본 60분(60분이내 반납하고 다시 빌리고 반복하여 하루종일\\n        이용 가능) -\\n\"\\n대여횟수제한없음\\n\"\\n    ※ 60분 넘어서 반납하지 않고 계속 사용하면\\n5분\\n에\\n200원씩\\n추가 요금 발생!!\\n     (만약, 60분 넘어서 반납하지 않고 계속 사용시간 최대 4시간 동안만 가능,\\n     이후에는 \"\\n도난\\n\"으로 간주하여 경찰 신고)\\n\\n\\n▶ 정기권/일일권(2시간) 이용 방법\\n    ① 일일 한번에 두시간씩 사용하고 반납하는것이 원칙 !\\n    (예. 13시 대여, 15시 이내 반납 , 15시에 대여 17시 이내 반납, 반복 사용 가능)\\n    ② 한번 빌리면 대여시간 기본 120분(120분이내 반납하고 다시 빌리고 반복하여 하루\\n        종일 이용 가능) - \"\\n대여횟수제한없음\"\\n    ※ 120분 넘어서 반납하지 않고 계속 사용하면\\n5분\\n에\\n200\\n원\\n씩\\n추가 요금 발생!!\\n     (만약, 120분 넘어서 반납하지 않고 계속 사용시간 최대 6시간 동안만 가능,\\n     이후에는 \"\\n도난\\n\"으로 간주하여 경찰 신고)\\n\\n[이용시 주의사항]\\n① 자전거는 대여했던 곳이 아닌 본인의 현재 위치 근처의 대여소에 반납해도 됨\\n② 일일권 및 정기권 사용 시, 이용시간 내에 계속 반납하면 하루종일 사용 가능\\n   (\\n대여횟\\n수제한없음\\n)\\n③ 대여 시 기계에 문제가 생겼거나, 고장났거나, 사고가 발생할 경우 콜센터(1599-0120) 으로 연락하여 자전거 회수를 요청하면 됨\\n④ 대여소 거치대에 자전거가 꽉 차서 반납이 여려울 경우, 이미 거치 되어 있는 자전거의 왼쪽에 있는 보조 잠금 장치를 빼서 자전거의 잠금 홈에 삽입하여 반납 처리 하도록 함']\n"
     ]
    }
   ],
   "source": [
    " # chrome driver 설정\n",
    "driver = webdriver.Chrome('C:/Users/SeongSan/Documents/selenium/chromedriver.exe')\n",
    "driver.implicitly_wait(10)\n",
    "\n",
    "url = \"https://www.bikeseoul.com/customer/opinionBoard/opinionBoardList.do?currentPageNo=1\"\n",
    "driver.get(url)\n",
    "html = driver.page_source\n",
    "soup = BeautifulSoup(html, 'html.parser')\n",
    "\n",
    "# 빈 리스트 변수\n",
    "title_list = []\n",
    "content_list = []\n",
    "\n",
    "# 문의사항 게시판 click\n",
    "driver.find_element_by_xpath('/html/body/div[1]/div[2]/div/div/div[2]/ul/li[2]').click() \n",
    "driver.implicitly_wait(10)\n",
    "      # click\n",
    "click_element = WebDriverWait(driver, 20) \\\n",
    "    .until(EC.presence_of_element_located((By.XPATH, \"/html/body/div[1]/div[2]/div/div/div[3]/div[2]/ul/li[2]/dl/dt\")))\n",
    "click_element.click()  \n",
    "driver.implicitly_wait(10)\n",
    "    # title crawling\n",
    "title = WebDriverWait(driver, 20).until(\n",
    "    EC.presence_of_element_located((By.XPATH, \"/html/body/div[1]/div[2]/div/div/div[3]/div[2]/ul/li[2]/dl/dt/a/span\")))\n",
    "title_list.append(title.text)\n",
    "    # content crawling\n",
    "content = WebDriverWait(driver, 20).until(\n",
    "    EC.presence_of_element_located((By.XPATH, \"/html/body/div[1]/div[2]/div/div/div[3]/div[2]/ul/li[2]/dl/dd\")))\n",
    "content_list.append(content.text)\n",
    "    \n",
    "print(title_list)\n",
    "print(content_list)"
   ]
  },
  {
   "cell_type": "markdown",
   "id": "74622031",
   "metadata": {},
   "source": [
    "# 크롤링-3"
   ]
  },
  {
   "cell_type": "code",
   "execution_count": null,
   "id": "4cf4f7cc",
   "metadata": {},
   "outputs": [],
   "source": [
    "from selenium import webdriver\n",
    "from selenium.webdriver.common.by import By\n",
    "from selenium.webdriver.support.ui import WebDriverWait\n",
    "from selenium.webdriver.support import expected_conditions as EC\n",
    "from bs4 import BeautifulSoup\n",
    "import pandas as pd\n",
    "from pandas import DataFrame\n",
    "import time"
   ]
  },
  {
   "cell_type": "markdown",
   "id": "db6fe26c",
   "metadata": {},
   "source": [
    "### 1. Text Crawling\n",
    "#### 1.1. Simple Text Crawling"
   ]
  },
  {
   "cell_type": "code",
   "execution_count": 116,
   "id": "fbb0ad99",
   "metadata": {},
   "outputs": [
    {
     "data": {
      "text/plain": [
       "'STAY'"
      ]
     },
     "execution_count": 116,
     "metadata": {},
     "output_type": "execute_result"
    }
   ],
   "source": [
    " # chrome driver 설정\n",
    "driver = webdriver.Chrome('C:/Users/SeongSan/Documents/selenium/chromedriver.exe')\n",
    "driver.implicitly_wait(10)\n",
    "\n",
    "url = \"https://www.melon.com/chart/index.htm\"\n",
    "\n",
    "driver.get(url)\n",
    "html = driver.page_source\n",
    "soup = BeautifulSoup(html, 'html.parser')\n",
    "\n",
    "# title crawling\n",
    "title = WebDriverWait(driver, 20) \\\n",
    "    .until(EC.presence_of_element_located((By.CSS_SELECTOR, \"#lst50 > td:nth-child(6) > div > div > div.ellipsis.rank01\")))\n",
    "\n",
    "# print(\"Title: {}\".format(title.text))\n",
    "\n",
    "title.text"
   ]
  },
  {
   "cell_type": "code",
   "execution_count": 117,
   "id": "2a97a8d4",
   "metadata": {},
   "outputs": [
    {
     "name": "stdout",
     "output_type": "stream",
     "text": [
      "신호등\n"
     ]
    }
   ],
   "source": [
    "# 2번째 제목 크롤링\n",
    "print(WebDriverWait(driver, 20) \\\n",
    "    .until(EC.presence_of_element_located((By.XPATH, \"/html/body/div/div[3]/div/div/div[3]/form/div/table/tbody/tr[2]/td[6]/div/div/div[1]/span/a\"))).text)"
   ]
  },
  {
   "cell_type": "markdown",
   "id": "46a95edd",
   "metadata": {},
   "source": [
    "#### 1.2. Text Crawling with for loop"
   ]
  },
  {
   "cell_type": "code",
   "execution_count": 119,
   "id": "b3a34b99",
   "metadata": {},
   "outputs": [
    {
     "name": "stdout",
     "output_type": "stream",
     "text": [
      "['STAY', '신호등', 'My Universe', 'OHAYO MY NIGHT', 'Permission to Dance', 'Next Level', '바라만 본다', 'Butter', 'Weekend', '낙하 (with 아이유)', 'Dynamite', '좋아좋아', 'Peaches (Feat. Daniel Caesar & Giveon)', 'Queendom', 'DUMB DUMB', 'Bad Habits', '다정히 내 이름을 부르면', '헤픈 우연', '시간을 거슬러 (낮에 뜨는 달 X 케이윌)', '가을 타나 봐', '이제 나만 믿어요', '비와 당신', 'Sticker', \"롤린 (Rollin')\", '라일락', 'Dun Dun Dance', '고백', 'Celebrity', 'ASAP', 'Savage Love (Laxed - Siren Beat) (BTS Remix)', '별빛 같은 나의 사랑아', '사이렌 Remix (Feat. UNEDUCATED KID, Paul Blanco)', '작은 것들을 위한 시 (Boy With Luv) (Feat. Halsey)', '비가 오는 날엔 (2021)', '색안경 (STEREOTYPE)', '그대라는 사치', '가을 우체국 앞에서', 'HERO', '다시 사랑한다면 (김필 Ver.)', 'Lemonade', '봄날', '찰나가 영원이 될 때 (The Eternal Moment)', '하루만 더', '밝게 빛나는 별이 되어 비춰줄게', '내 손을 잡아', '끝사랑', 'Life Goes On', '안녕 (Hello)', 'Bk Love', '잊었니']\n"
     ]
    }
   ],
   "source": [
    " # chrome driver 설정\n",
    "driver = webdriver.Chrome('C:/Users/SeongSan/Documents/selenium/chromedriver.exe')\n",
    "driver.implicitly_wait(10)\n",
    "\n",
    "url = \"https://www.melon.com/chart/index.htm\"\n",
    "\n",
    "driver.get(url)\n",
    "html = driver.page_source\n",
    "soup = BeautifulSoup(html, 'html.parser')\n",
    "\n",
    "# 빈 리스트 변수\n",
    "title_list = []\n",
    "\n",
    "# title crawling (TOP 50)\n",
    "for i in range(1, 51):\n",
    "    title = WebDriverWait(driver, 20) \\\n",
    "        .until(EC.presence_of_element_located((By.XPATH, \"/html/body/div/div[3]/div/div/div[3]/form/div/table/tbody/tr[\"+str(i)+\"]/td[6]/div/div/div[1]/span/a\")))\n",
    "    title_list.append(title.text)\n",
    "    \n",
    "print(title_list)"
   ]
  },
  {
   "cell_type": "markdown",
   "id": "78c43050",
   "metadata": {},
   "source": [
    "#### 1.3. Text Crawling (Click & Back)"
   ]
  },
  {
   "cell_type": "code",
   "execution_count": null,
   "id": "5499fb77",
   "metadata": {},
   "outputs": [],
   "source": [
    " # chrome driver 설정\n",
    "driver = webdriver.Chrome('C:/Users/SeongSan/Documents/selenium/chromedriver.exe')\n",
    "driver.implicitly_wait(10)\n",
    "\n",
    "url = \"https://www.melon.com/chart/index.htm\"\n",
    "\n",
    "driver.get(url)\n",
    "html = driver.page_source\n",
    "soup = BeautifulSoup(html, 'html.parser')\n",
    "\n",
    "# 1번째 click하기\n",
    "click_element = WebDriverWait(driver, 20) \\\n",
    "    .until(EC.presence_of_element_located((By.XPATH, \"/html/body/div/div[3]/div/div/div[4]/form/div/table/tbody/tr[\"+str(1)+\"]/td[5]/div\")))\n",
    "click_element.click()    \n",
    "\n",
    "# back\n",
    "driver.back()\n",
    "\n",
    "# 2번째 click하기\n",
    "click_element = WebDriverWait(driver, 20) \\\n",
    "    .until(EC.presence_of_element_located((By.XPATH, \"/html/body/div/div[3]/div/div/div[4]/form/div/table/tbody/tr[\"+str(2)+\"]/td[5]/div\")))\n",
    "click_element.click()    \n",
    "\n",
    "# back\n",
    "driver.back()"
   ]
  },
  {
   "cell_type": "markdown",
   "id": "c36cca6b",
   "metadata": {},
   "source": [
    "#### 1.4. Text Crawling including Contents"
   ]
  },
  {
   "cell_type": "code",
   "execution_count": 121,
   "id": "0c64f4e9",
   "metadata": {
    "scrolled": false
   },
   "outputs": [
    {
     "name": "stdout",
     "output_type": "stream",
     "text": [
      "['STAY', '신호등', 'My Universe', 'OHAYO MY NIGHT', 'Permission to Dance']\n",
      "['The Kid LAROI', '이무진', 'Coldplay', '디핵 (D-Hack)', '방탄소년단']\n",
      "['152,373', '215,120', '68,262', '133,283', '176,333']\n",
      "[\"I do the same thing I told you\\nthat I never would\\nI told you I'd change\\neven when I knew I never could\\nI know that I can't find\\nnobody else\\nas good as you\\nI need you to stay\\nneed you to stay hey Oh\\nI get drunk wake up\\nI'm wasted still\\nI realize the time\\nthat I wasted here\\nI feel like you can't\\nfeel the way I feel\\nOh I'll be fucked up\\nif you can't be right here\\nOh ooh-woah\\nOh ooh-woah ooh-woah\\nOh ooh-woah\\nOh ooh-woah ooh-woah\\nOh ooh-woah\\nOh ooh-woah ooh-woah\\nOh I'll be fucked up\\nif you can't be right here\\nI do the same thing I told you\\nthat I never would\\nI told you I'd change\\neven when I knew I never could\\nI know that I can't find\\nnobody else\\nas good as you\\nI need you to stay\\nneed you to stay hey\\nI do the same thing I told you\\nthat I never would\\nI told you I'd change\\neven when I knew I never could\\nI know that I can't find\\nnobody else\\nas good as you\\nI need you to stay\\nneed you to stay hey\\nWhen I'm away from you\\nI miss your touch Ooh\\nYou're the reason\\nI believe in love Ooh\\nIt's been difficult\\nfor me to trust Ooh\\nAnd I'm afraid\\nthat I'ma fuck it up Ooh\\nAin't no way\\nthat I can leave you stranded\\n'Cause you ain't ever left me\\nempty-handed\\nAnd you know that I know\\nthat I can't live without you\\nSo baby stay\\nOh ooh-woah\\nOh ooh-woah ooh-woah\\nOh ooh-woah\\nOh ooh-woah ooh-woah\\nOh ooh-woah\\nOh ooh-woah ooh-woah\\nI'll be fucked up\\nif you can't be right here\\nI do the same thing I told you\\nthat I never would\\nI told you I'd change\\neven when I knew I never could\\nI know that I can't find\\nnobody else\\nas good as you\\nI need you to stay\\nneed you to stay hey\\nI do the same thing\\nI told you that I never would\\nI told you I'd change\\neven when I knew I never could\\nI know that I can't find\\nnobody else\\nas good as you\\nI need you to stay\\nneed you to stay hey\\nWoah-oh\\nI need you to stay\\nneed you to stay hey\", '이제야 목적지를 정했지만\\n가려한 날 막아서네 난 갈 길이 먼데\\n새빨간 얼굴로 화를 냈던\\n친구가 생각나네\\n이미 난 발걸음을 떼었지만\\n가려한 날 재촉하네 걷기도 힘든데\\n새파랗게 겁에 질려 도망간\\n친구가 뇌에 맴도네\\n건반처럼 생긴 도로 위\\n수많은 동그라미들 모두가\\n멈췄다 굴렀다 말은 잘 들어\\n그건 나도 문제가 아냐\\n붉은색 푸른색 그 사이\\n3초 그 짧은 시간\\n노란색 빛을 내는\\n저기 저 신호등이\\n내 머릿속을 텅 비워버려\\n내가 빠른지도\\n느린지도 모르겠어\\n그저 눈앞이 샛노랄 뿐이야\\n솔직히 말하자면 차라리\\n운전대를 못 잡던 어릴 때가\\n더 좋았었던 것 같아\\n그땐 함께 온 세상을\\n거닐 친구가 있었으니\\n건반처럼 생긴 도로 위\\n수많은 조명들이 날 빠르게\\n번갈아 가며 비추고 있지만\\n난 아직 초짜란 말이야\\n붉은색 푸른색 그 사이\\n3초 그 짧은 시간\\n노란색 빛을 내는 저기 저 신호등이\\n내 머릿속을 텅 비워버려\\n내가 빠른지도\\n느린지도 모르겠어\\n그저 눈앞이 샛노랄 뿐이야\\n꼬질꼬질한 사람이나\\n부자 곁엔 아무도 없는\\n삼색 조명과 이색 칠 위에\\n서 있어 괴롭히지 마\\n붉은색 푸른색 그 사이\\n3초 그 짧은 시간\\n노란색 빛을 내는 저기 저 신호등이\\n내 머릿속을 텅 비워버려\\n내가 빠른지도\\n느린지도 모르겠어\\n그저 눈앞이 샛노랄 뿐이야', 'You, you are my universe and\\nI just want to put you first\\nAnd you, you are my universe, and I…\\n\\nIn the night I lie and look up at you\\nWhen the morning comes I watch you rise\\nThere’s a paradise they couldn’t capture\\nThat bright infinity inside your eyes\\n\\n매일 밤 네게 날아가 (가)\\n꿈이란 것도 잊은 채\\n나 웃으며 너를 만나 (나)\\nNever ending forever baby\\n\\nYou, you are my universe and\\nI just want to put you first\\nAnd you, you are my universe, and\\nYou make my world light up inside\\n\\n어둠이 내겐 더 편했었지\\n길어진 그림자 속에서 (eyes)\\n\\nAnd they said that we can’t be together\\nBecause\\nBecause we come from different sides\\n\\nYou, you are my universe and\\nI just want to put you first\\nAnd you, you are my universe, and\\nYou make my world light up inside\\n\\nMy universe (do do, do do)\\nMy universe (do do, do do)\\nMy universe (do do, do do)\\n(you make my world)\\nYou make my world light up inside\\n\\nMake my world light up inside\\n\\n나를 밝혀주는 건\\n너란 사랑으로 수 놓아진 별\\n내 우주의 넌\\n또 다른 세상을 만들어 주는 걸\\n\\n너는 내 별이자 나의 우주니까\\n지금 이 시련도 결국엔 잠시니까\\n너는 언제까지나 지금처럼 밝게만 빛나줘\\n우리는 너를 따라 이 긴 밤을 수놓을 거야\\n\\n너와 함께 날아가 (가)\\nWhen I’m without you I’m crazy\\n자 어서 내 손을 잡아 (아)\\nWe are made of each other baby\\n\\nYou, you are my universe and\\nI just want to put you first\\nAnd you, you are my universe, and\\nYou make my world light up inside\\n\\nMy universe (you, you are)\\nMy universe (I just want)\\nMy universe (you, you are)\\nMy universe, and I\\n\\nMy universe', '너를 사랑하고 있어\\n너를 사랑하고 있어\\n자기야 날 사랑해주면 안 될까\\n말처럼 쉽지는 않은 걸 알지만\\n세게 날 안아주면 안 될까\\n오늘따라 세상이 무섭단 말이야\\n잠깐 인공호흡을 해주라\\n왠지 숨이 잘 안 쉬어져서 난\\n날 놓을 거면 과거에 놔주라\\n네가 있는 시간에서 죽어갈 거야\\n우리 그냥 결혼하면 안 될까\\n돈은 내가 열심히 벌 테니까\\n이 세상과 내가 눈감는 날\\n까지만 날 사랑한다 말해주라\\n내가 너를 사랑해도\\n네가 날 안 사랑해도\\n우린 나름대로 행복할 거야\\n내 방 천장에 그려 본\\n내 우주에게 물어본\\n말은 나를 사랑하면 안 될까\\n오사카나 오키나와의 바다\\n내 뮤비들을 찍었던 곳 말이야\\n같이 가자 약속했었잖아\\n그 약속이 깨질까 봐 겁이 나\\nWHUTUF이 결혼한다 하던 날\\n진짜 처음으로 걔가 부럽더라\\n하얀 웨딩드레스를 입은 아름다운\\n너와 영원을 말할 수 있을까\\n가족이 되어주라\\n내 집이 되어주라\\n나도 날 줄 테니 너도 널 주라\\n평생의 연인이야\\n네 말대로 말이야\\n그래 별과 우주잖아\\n날 사랑하지 않는다면\\n나의 사랑 반을 받아\\n남은 사랑의 반도\\n내가 채워줄 거야 꼭\\n내가 너를 사랑해도\\n네가 날 안 사랑해도\\n우린 나름대로 행복할 거야\\n내 방 천장에 그려 본\\n내 우주에게 물어본\\n말은 나를 사랑하면 안 될까\\n내가 너를 사랑해도\\n네가 날 안 사랑해도\\n우린 나름대로 행복할 거야\\n내 방 천장에 그려 본\\n내 우주에게 물어본\\n말은 나를 사랑하면 안 될까', 'It’s the thought of being young\\nWhen your heart’s just like a drum\\nBeating louder with no way to guard it\\nWhen it all seems like it’s wrong\\nJust sing along to Elton John\\nAnd to that feeling, we’re just getting started\\n\\nWhen the nights get colder\\nAnd the rhythms got you falling behind\\nJust dream about that moment\\nWhen you look yourself right in the eye, eye, eye\\nThen you say\\n\\nI wanna dance\\nThe music’s got me going\\nAin’t nothing that can stop how we move yeah\\nLet’s break our plans\\nAnd live just like we’re golden\\nAnd roll in like we’re dancing fools\\n\\nWe don’t need to worry\\n‘Cause when we fall we know how to land\\nDon’t need to talk the talk, just walk the walk tonight\\n‘Cause we don’t need permission to dance\\n\\nThere’s always something that’s standing in the way\\nBut if you don’t let it faze ya\\nYou’ll know just how to break\\nJust keep the right vibe yeah\\n‘Cause there’s no looking back\\nThere ain’t no one to prove\\nWe don’t got this on lock yeah\\n\\nThe wait is over\\nThe time is now so let’s do it right\\nYeah we’ll keep going\\nAnd stay up until we see the sunrise\\nAnd we’ll say\\n\\nI wanna dance\\nThe music’s got me going\\nAin’t nothing that can stop how we move yeah\\nLet’s break our plans\\nAnd live just like we’re golden\\nAnd roll in like we’re dancing fools\\n\\nWe don’t need to worry\\n‘Cause when we fall we know how to land\\nDon’t need to talk the talk, just walk the walk tonight\\n‘Cause we don’t need permission to dance\\n\\nDa na na na na na na\\nDa na na na na na na\\nDa na na na na na na\\nNo, we don’t need permission to dance\\n\\nDa na na na na na na\\nDa na na na na na na\\nDa na na na na na na\\n\\nWell let me show ya\\nThat we can keep the fire alive\\n‘Cause it’s not over\\nTill it’s over say it one more time\\nSay\\n\\nI wanna dance\\nThe music’s got me going\\nAin’t nothing that can stop how we move yeah\\nLet’s break our plans\\nAnd live just like we’re golden\\nAnd roll in like we’re dancing fools\\n\\nWe don’t need to worry\\n‘Cause when we fall we know how to land\\nDon’t need to talk the talk, just walk the walk tonight\\n‘Cause we don’t need permission to dance']\n"
     ]
    }
   ],
   "source": [
    " # chrome driver 설정\n",
    "driver = webdriver.Chrome('C:/Users/SeongSan/Documents/selenium/chromedriver.exe')\n",
    "driver.implicitly_wait(10)\n",
    "\n",
    "url = \"https://www.melon.com/chart/index.htm\"\n",
    "driver.get(url)\n",
    "html = driver.page_source\n",
    "soup = BeautifulSoup(html, 'html.parser')\n",
    "\n",
    "# 빈 리스트 변수\n",
    "title_list = []\n",
    "artist_list = []\n",
    "heart_list = []\n",
    "lyrics_list = []\n",
    "\n",
    "# crawling (TOP 5)\n",
    "for i in range(1, 6):\n",
    "    # click\n",
    "    click_element = WebDriverWait(driver, 20) \\\n",
    "        .until(EC.presence_of_element_located((By.XPATH, \"/html/body/div/div[3]/div/div/div[3]/form/div/table/tbody/tr[\" + str(i) + \"]/td[5]/div/a\")))\n",
    "    click_element.click()\n",
    "\n",
    "    # title crawling\n",
    "    title = WebDriverWait(driver, 20).until(\n",
    "        EC.presence_of_element_located((By.CSS_SELECTOR, \"#downloadfrm > div > div > div.entry > div.info > div.song_name\")))\n",
    "    title_list.append(title.text)\n",
    "\n",
    "    # artist crawling\n",
    "    artist = WebDriverWait(driver, 20).until(\n",
    "        EC.presence_of_element_located((By.CSS_SELECTOR, \"#downloadfrm > div > div > div.entry > div.info > div.artist > a > span:nth-child(1)\")))\n",
    "    artist_list.append(artist.text)\n",
    "    \n",
    "    # heart crawling\n",
    "    heart = WebDriverWait(driver, 20).until(\n",
    "        EC.presence_of_element_located((By.CSS_SELECTOR, \"#d_like_count\")))\n",
    "    heart_list.append(heart.text)\n",
    "\n",
    "    # lyrics crawling\n",
    "    lyrics = WebDriverWait(driver, 20).until(\n",
    "        EC.presence_of_element_located((By.CSS_SELECTOR, \"#d_video_summary\")))\n",
    "    lyrics_list.append(lyrics.text)\n",
    "    \n",
    "    # back\n",
    "    driver.back()\n",
    "    \n",
    "print(title_list)\n",
    "print(artist_list)\n",
    "print(heart_list)\n",
    "print(lyrics_list)"
   ]
  },
  {
   "cell_type": "code",
   "execution_count": 125,
   "id": "a6372759",
   "metadata": {},
   "outputs": [
    {
     "name": "stdout",
     "output_type": "stream",
     "text": [
      "                 title         artist    heart  \\\n",
      "0                 STAY  The Kid LAROI  152,380   \n",
      "1                  신호등            이무진  215,120   \n",
      "2          My Universe       Coldplay   68,282   \n",
      "3       OHAYO MY NIGHT    디핵 (D-Hack)  133,289   \n",
      "4  Permission to Dance          방탄소년단  176,337   \n",
      "\n",
      "                                              lyrics  \n",
      "0  I do the same thing I told you\\nthat I never w...  \n",
      "1  이제야 목적지를 정했지만\\n가려한 날 막아서네 난 갈 길이 먼데\\n새빨간 얼굴로 화...  \n",
      "2  You, you are my universe and\\nI just want to p...  \n",
      "3  너를 사랑하고 있어\\n너를 사랑하고 있어\\n자기야 날 사랑해주면 안 될까\\n말처럼 ...  \n",
      "4  It’s the thought of being young\\nWhen your hea...  \n"
     ]
    }
   ],
   "source": [
    " # chrome driver 설정\n",
    "driver = webdriver.Chrome('C:/Users/SeongSan/Documents/selenium/chromedriver.exe')\n",
    "driver.implicitly_wait(10)\n",
    "\n",
    "url = \"https://www.melon.com/chart/index.htm\"\n",
    "driver.get(url)\n",
    "html = driver.page_source\n",
    "soup = BeautifulSoup(html, 'html.parser')\n",
    "\n",
    "# 빈 리스트 변수\n",
    "title_list = []\n",
    "artist_list = []\n",
    "heart_list = []\n",
    "lyrics_list = []\n",
    "\n",
    "# crawling (TOP 5)\n",
    "for i in range(1, 6):\n",
    "    # click\n",
    "    click_element = WebDriverWait(driver, 20) \\\n",
    "        .until(EC.presence_of_element_located((By.XPATH, \"/html/body/div/div[3]/div/div/div[3]/form/div/table/tbody/tr[\" + str(i) + \"]/td[5]/div/a\")))\n",
    "    click_element.click()\n",
    "\n",
    "    # title crawling\n",
    "    title = WebDriverWait(driver, 20).until(\n",
    "        EC.presence_of_element_located((By.CSS_SELECTOR, \"#downloadfrm > div > div > div.entry > div.info > div.song_name\")))\n",
    "    title_list.append(title.text)\n",
    "\n",
    "    # artist crawling\n",
    "    artist = WebDriverWait(driver, 20).until(\n",
    "        EC.presence_of_element_located((By.CSS_SELECTOR, \"#downloadfrm > div > div > div.entry > div.info > div.artist > a > span:nth-child(1)\")))\n",
    "    artist_list.append(artist.text)\n",
    "    \n",
    "    # heart crawling\n",
    "    heart = WebDriverWait(driver, 20).until(\n",
    "        EC.presence_of_element_located((By.CSS_SELECTOR, \"#d_like_count\")))\n",
    "    heart_list.append(heart.text)\n",
    "\n",
    "    # lyrics crawling\n",
    "    lyrics = WebDriverWait(driver, 20).until(\n",
    "        EC.presence_of_element_located((By.CSS_SELECTOR, \"#d_video_summary\")))\n",
    "    lyrics_list.append(lyrics.text)\n",
    "    \n",
    "    # back\n",
    "    driver.back()\n",
    "    \n",
    "    \n",
    "# 결과 변수\n",
    "raw_result = {'title': title_list,\n",
    "              'artist': artist_list,\n",
    "              'heart': heart_list,\n",
    "          'lyrics': lyrics_list}\n",
    "\n",
    "result = pd.DataFrame(raw_result)\n",
    "print(result)\n",
    "# # csv 파일로 save\n",
    "# result.to_csv(\"MelonTop5\", mode='w')\n",
    "\n",
    "# driver 종료\n",
    "driver.quit()"
   ]
  }
 ],
 "metadata": {
  "kernelspec": {
   "display_name": "Python 3",
   "language": "python",
   "name": "python3"
  },
  "language_info": {
   "codemirror_mode": {
    "name": "ipython",
    "version": 3
   },
   "file_extension": ".py",
   "mimetype": "text/x-python",
   "name": "python",
   "nbconvert_exporter": "python",
   "pygments_lexer": "ipython3",
   "version": "3.8.8"
  }
 },
 "nbformat": 4,
 "nbformat_minor": 5
}
