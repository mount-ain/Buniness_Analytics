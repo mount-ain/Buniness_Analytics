{
 "cells": [
  {
   "cell_type": "markdown",
   "id": "2ede602b",
   "metadata": {},
   "source": [
    "### 1. lambda 함수"
   ]
  },
  {
   "cell_type": "code",
   "execution_count": 5,
   "id": "4a5efdab",
   "metadata": {},
   "outputs": [
    {
     "name": "stdout",
     "output_type": "stream",
     "text": [
      "6\n",
      "6\n",
      "6\n"
     ]
    }
   ],
   "source": [
    "def s(a,b):   # 일반적인 덧셈 함수\n",
    "    return a + b\n",
    "\n",
    "print(s(3,3))\n",
    "\n",
    "c = lambda a,b : a + b   # lambda를 이용한 1회용 덧셈 함수 생성\n",
    "print(c(3,3))\n",
    "\n",
    "print((lambda a,b : a + b)(3,3))"
   ]
  },
  {
   "cell_type": "markdown",
   "id": "436c379b",
   "metadata": {},
   "source": [
    "### 2. 맵 리듀스\n",
    "#### 2.1. map함수"
   ]
  },
  {
   "cell_type": "code",
   "execution_count": 7,
   "id": "6f50fd7c",
   "metadata": {},
   "outputs": [
    {
     "name": "stdout",
     "output_type": "stream",
     "text": [
      "[1, 4, 9, 16, 25]\n"
     ]
    }
   ],
   "source": [
    "ex = [1,2,3,4,5]   # 리스트 생성 후, map함수를 이용하여 제곱함수 일제히 적용 \n",
    "f = lambda x:x**2\n",
    "print(list(map(f, ex)))"
   ]
  },
  {
   "cell_type": "code",
   "execution_count": 9,
   "id": "88c97607",
   "metadata": {},
   "outputs": [
    {
     "data": {
      "text/plain": [
       "[1, 4, 9, 16, 25]"
      ]
     },
     "execution_count": 9,
     "metadata": {},
     "output_type": "execute_result"
    }
   ],
   "source": [
    "ex = [1, 2, 3, 4, 5]   # 동일 기능 리스트 컴프리헨션으로 구현 \n",
    "[x**2 for x in ex]"
   ]
  },
  {
   "cell_type": "code",
   "execution_count": 11,
   "id": "d955cc9b",
   "metadata": {},
   "outputs": [
    {
     "data": {
      "text/plain": [
       "[3, 6, 9, 12, 15]"
      ]
     },
     "execution_count": 11,
     "metadata": {},
     "output_type": "execute_result"
    }
   ],
   "source": [
    "ex=[1,2,3,4,5]   # 2개 이상의 시퀀스형 데이터 사용\n",
    "f=lambda x,y,z:x+y+z\n",
    "list(map(f,ex,ex,ex))"
   ]
  },
  {
   "cell_type": "code",
   "execution_count": 14,
   "id": "c3e80f51",
   "metadata": {},
   "outputs": [
    {
     "data": {
      "text/plain": [
       "[3, 6, 9, 12, 15]"
      ]
     },
     "execution_count": 14,
     "metadata": {},
     "output_type": "execute_result"
    }
   ],
   "source": [
    "[x+y+z for x,y,z in zip(ex,ex,ex)]   # 동일 기능 리스트 컴프리헨션으로 구현"
   ]
  },
  {
   "cell_type": "markdown",
   "id": "4085fbbd",
   "metadata": {},
   "source": [
    "#### 2.2. reduce함수"
   ]
  },
  {
   "cell_type": "code",
   "execution_count": 16,
   "id": "9b3346bd",
   "metadata": {},
   "outputs": [
    {
     "name": "stdout",
     "output_type": "stream",
     "text": [
      "15\n"
     ]
    }
   ],
   "source": [
    "from functools import reduce   # 내장함수 reduce 호출 및 사용\n",
    "print(reduce(lambda x,y:x+y, [1,2,3,4,5]))"
   ]
  },
  {
   "cell_type": "markdown",
   "id": "fddc7601",
   "metadata": {},
   "source": [
    "### 3. 별표의 활용\n",
    "#### 3.1. 가변 인수로 활용"
   ]
  },
  {
   "cell_type": "code",
   "execution_count": 2,
   "id": "a40eb016",
   "metadata": {},
   "outputs": [
    {
     "name": "stdout",
     "output_type": "stream",
     "text": [
      "1 (2, 3)\n",
      "<class 'tuple'>\n"
     ]
    }
   ],
   "source": [
    "def asterisk_test(a, *args):   # *를 이용하여 파라미터의 성격을 가변 인수로 설정\n",
    "    print(a,args)\n",
    "    print(type(args))\n",
    "\n",
    "asterisk_test(1,2,3)"
   ]
  },
  {
   "cell_type": "code",
   "execution_count": 5,
   "id": "a7213770",
   "metadata": {},
   "outputs": [
    {
     "name": "stdout",
     "output_type": "stream",
     "text": [
      "1 {'b': 2, 'c': 3}\n",
      "<class 'dict'>\n"
     ]
    }
   ],
   "source": [
    "def asterisk_test(a,**kargs):   # **를 이용하여 dict형태의 데이터도 인자로 입력 가능\n",
    "    print(a,kargs)\n",
    "    print(type(kargs))\n",
    "asterisk_test(1,b=2,c=3)"
   ]
  },
  {
   "cell_type": "markdown",
   "id": "687c0496",
   "metadata": {},
   "source": [
    "#### 3.2. 별표의 언패킹 기능"
   ]
  },
  {
   "cell_type": "code",
   "execution_count": 9,
   "id": "8e1ce12c",
   "metadata": {},
   "outputs": [
    {
     "name": "stdout",
     "output_type": "stream",
     "text": [
      "1 2 3 4 5 6\n",
      "<class 'tuple'>\n"
     ]
    }
   ],
   "source": [
    "def asterisk_test(a,args):   # 출력 코드에 반대로 *를 붙임으로써, 튜플 형태의 데이터를 언패킹하여 출력\n",
    "    print(a,*args)\n",
    "    print(type(args))   # 언패킹을 하지 않은 기존 데이터\n",
    "asterisk_test(1,(2,3,4,5,6))"
   ]
  },
  {
   "cell_type": "code",
   "execution_count": 14,
   "id": "7fd3c943",
   "metadata": {},
   "outputs": [
    {
     "name": "stdout",
     "output_type": "stream",
     "text": [
      "[1, 2] [3, 4] [5, 6]\n",
      "([1, 2], [3, 4], [5, 6])\n",
      "[1, 2] [3, 4] [5, 6]\n"
     ]
    }
   ],
   "source": [
    "a,b,c=([1,2], [3,4], [5,6])   # 일반 자료형에서 * 활용\n",
    "print(a,b,c)\n",
    "data=([1,2], [3,4], [5,6])\n",
    "print(data)\n",
    "print(*data)"
   ]
  },
  {
   "cell_type": "code",
   "execution_count": 18,
   "id": "47bcbaa0",
   "metadata": {},
   "outputs": [
    {
     "name": "stdout",
     "output_type": "stream",
     "text": [
      "(1, 3, 5)\n",
      "<class 'tuple'>\n",
      "(2, 4, 6)\n",
      "<class 'tuple'>\n",
      "(1, 3, 5)\n",
      "<class 'tuple'>\n",
      "(2, 4, 6)\n",
      "<class 'tuple'>\n"
     ]
    }
   ],
   "source": [
    "for data in zip(*[[1,2],[3,4],[5,6]]):   # zip함수와 응용\n",
    "    print(data)\n",
    "    print(type(data))\n",
    "    \n",
    "for data in zip([1,2],[3,4],[5,6]):   # 굳이 * 사용을 안 하여도, zip함수만으로 리스트 결합이 가능한데 차이점을 모르겠다. \n",
    "    print(data)\n",
    "    print(type(data))"
   ]
  },
  {
   "cell_type": "code",
   "execution_count": 20,
   "id": "fb8e9f7d",
   "metadata": {},
   "outputs": [
    {
     "name": "stdout",
     "output_type": "stream",
     "text": [
      "10 1 2 3\n"
     ]
    }
   ],
   "source": [
    "def asterisk_test(a,b,c,d):   # 키워드 가변인수 사용\n",
    "    print(a,b,c,d)\n",
    "data={\"b\":1, \"c\":2, \"d\":3}\n",
    "asterisk_test(10, **data)   # 입력받는 인수를 *를 활용하여 간략화할 수 있다. "
   ]
  },
  {
   "cell_type": "markdown",
   "id": "1b0fd6e4",
   "metadata": {},
   "source": [
    "### 4. 선형대수학\n",
    "#### 4.1. 파이썬 스타일 코드로 표현한 벡터"
   ]
  },
  {
   "cell_type": "code",
   "execution_count": 31,
   "id": "178e11b7",
   "metadata": {},
   "outputs": [
    {
     "name": "stdout",
     "output_type": "stream",
     "text": [
      "[1, 2, 10, 1, 2, 10]\n",
      "(1, 2, 10, 1, 2, 10)\n",
      "[1, 2, 10, 1, 2, 10]\n"
     ]
    }
   ],
   "source": [
    "vector_a=[1,2,10]  # 리스트로 표현한 경우\n",
    "vector_b=(1,2,10)   # 튜플로 표현한 경우\n",
    "vector_c={'x':1, 'y':2, 'z':10}  # 딕셔너리로 표현한 경우\n",
    "print(vector_a * 2)   # 리스트와 튜플은 사칙연산으로 데이터 복제가 가능하지만 딕셔너리는 불가능\n",
    "print(vector_b * 2)"
   ]
  },
  {
   "cell_type": "code",
   "execution_count": 34,
   "id": "188cb9fd",
   "metadata": {},
   "outputs": [
    {
     "name": "stdout",
     "output_type": "stream",
     "text": [
      "[7, 10]\n"
     ]
    }
   ],
   "source": [
    "u=[2,2]   # 벡터의 합 리스트 컴프리헨션으로 구현\n",
    "v=[2,3]\n",
    "z=[3,5]\n",
    "result=[sum(t) for t in zip(u,v,z)]\n",
    "print(result)"
   ]
  },
  {
   "cell_type": "code",
   "execution_count": 45,
   "id": "7e87f009",
   "metadata": {},
   "outputs": [
    {
     "name": "stdout",
     "output_type": "stream",
     "text": [
      "([2, 2], [2, 3], [3, 5])\n",
      "<class 'tuple'>\n",
      "[2, 2] [2, 3] [3, 5]\n",
      "[7, 10]\n",
      "[7, 10]\n"
     ]
    }
   ],
   "source": [
    "def vector_addition(*args):\n",
    "    print(args)   \n",
    "    print(type(args)) # 언패킹을 하지 않은 데이터들은 튜플 형태로 변환된다\n",
    "    print(*args)\n",
    "    return [sum(t) for t in zip(*args)]   # unpacking 통해 zip(u,v,z) 효과를 낼 수 있음.\n",
    "\n",
    "def vector_add(a,b,c):   # *를 활용한 가변인수를 사용하지 않고 동일한 기능을 수행하는 벡터의 합 함수\n",
    "    return [sum(t) for t in zip(a,b,c)]\n",
    "a = vector_addition(u,v,z)\n",
    "print(a)\n",
    "b = vector_add(u,v,z)\n",
    "print(b)\n",
    "\n",
    "   # 결과적으로 *를 활용하면, 함수를 생성할 때 입력받는 인수의 규모에 제약받지 않게 된다.  "
   ]
  },
  {
   "cell_type": "code",
   "execution_count": 47,
   "id": "18de77b8",
   "metadata": {},
   "outputs": [
    {
     "data": {
      "text/plain": [
       "[10, 12, 14]"
      ]
     },
     "execution_count": 47,
     "metadata": {},
     "output_type": "execute_result"
    }
   ],
   "source": [
    "u=[1,2,3]   # 벡터의 연산 : 스칼라곱 구현\n",
    "v=[4,4,4]\n",
    "\n",
    "alpha=2\n",
    "\n",
    "result=[alpha*sum(t) for t in zip(u,v)]\n",
    "result"
   ]
  },
  {
   "cell_type": "markdown",
   "id": "e84f264d",
   "metadata": {},
   "source": [
    "#### 4.2. 파이썬 스타일 코드로 표현한 행렬"
   ]
  },
  {
   "cell_type": "code",
   "execution_count": 52,
   "id": "3b43329a",
   "metadata": {},
   "outputs": [
    {
     "name": "stdout",
     "output_type": "stream",
     "text": [
      "[[3, 6], [4, 5], [3, 6], [4, 5]]\n",
      "[(3, 6), (4, 5), (3, 6), (4, 5)]\n"
     ]
    }
   ],
   "source": [
    "matrix_a=[[3,6], [4,5]]   # 리스트로 표현한 경우\n",
    "matrix_b=[(3,6), (4,5)]   # 튜플로 표현한 경우\n",
    "matrix_c={(0,0):3, (0,1):6, (1,0):4, (1,1):5}   # 딕셔너리로 표현한경우\n",
    "print(matrix_a * 2)   # 마찬가지로, 리스트와 튜플로 이루어진 행렬은 사칙연산으로 데이터 복제가 가능하나, 딕셔너리 형태는 불가하다. \n",
    "print(matrix_b * 2)   "
   ]
  },
  {
   "cell_type": "code",
   "execution_count": 54,
   "id": "e44665cf",
   "metadata": {},
   "outputs": [
    {
     "name": "stdout",
     "output_type": "stream",
     "text": [
      "[[8, 14], [10, 12]]\n"
     ]
    }
   ],
   "source": [
    "matrix_a=[[3,6], [4,5]]\n",
    "matrix_b=[[5,8], [6,7]]\n",
    "\n",
    "result=[[sum(row) for row in zip(*t)] for t in zip(matrix_a, matrix_b)]   # 2x2행렬들의 합 -> 2차원 리스트 컴프리헨션으로 구현\n",
    "print(result)"
   ]
  },
  {
   "cell_type": "markdown",
   "id": "35adfd0a",
   "metadata": {},
   "source": [
    "### 주민등록번호로 성별찾기"
   ]
  },
  {
   "cell_type": "code",
   "execution_count": 77,
   "id": "b3db3e09",
   "metadata": {},
   "outputs": [
    {
     "name": "stdout",
     "output_type": "stream",
     "text": [
      "['1', '2', '1', '1']\n",
      "['1', '2', '1', '1']\n"
     ]
    }
   ],
   "source": [
    "pins = [\"891120-1234567\", \"931120-2335567\", \"911120-1234234\", \"951120-1234567\"]\n",
    "\n",
    "\n",
    "print(list(map(lambda x: x.split(\"-\")[1][0], pins)))\n",
    "\n",
    "# 또는\n",
    "\n",
    "def find_sex(num):\n",
    "    return [i.split('-')[1][0] for i in num]\n",
    "print(find_sex(pins))"
   ]
  },
  {
   "cell_type": "markdown",
   "id": "cb596720",
   "metadata": {},
   "source": [
    "#### 벡터의 내적"
   ]
  },
  {
   "cell_type": "code",
   "execution_count": 80,
   "id": "51f634f8",
   "metadata": {},
   "outputs": [
    {
     "name": "stdout",
     "output_type": "stream",
     "text": [
      "11\n"
     ]
    }
   ],
   "source": [
    "a = [1,2]\n",
    "b = [3,4]\n",
    "\n",
    "def dot(x,y):\n",
    "    return sum([i*j for i,j in zip(x,y)])\n",
    "\n",
    "print(dot(a,b))"
   ]
  }
 ],
 "metadata": {
  "kernelspec": {
   "display_name": "Python 3",
   "language": "python",
   "name": "python3"
  },
  "language_info": {
   "codemirror_mode": {
    "name": "ipython",
    "version": 3
   },
   "file_extension": ".py",
   "mimetype": "text/x-python",
   "name": "python",
   "nbconvert_exporter": "python",
   "pygments_lexer": "ipython3",
   "version": "3.8.8"
  }
 },
 "nbformat": 4,
 "nbformat_minor": 5
}
